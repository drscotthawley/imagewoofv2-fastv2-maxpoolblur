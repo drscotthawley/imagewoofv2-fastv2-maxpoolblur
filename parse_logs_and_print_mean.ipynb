{
 "cells": [
  {
   "cell_type": "code",
   "execution_count": 1,
   "metadata": {},
   "outputs": [],
   "source": [
    "import numpy as np\n",
    "import os\n",
    "\n",
    "fnames = !ls logs/"
   ]
  },
  {
   "cell_type": "code",
   "execution_count": 5,
   "metadata": {},
   "outputs": [
    {
     "name": "stdout",
     "output_type": "stream",
     "text": [
      "log_nette_20_ep_128_blurpool.log 91.57\n",
      "log_nette_20_ep_192.log 92.70\n",
      "log_nette_20_ep_256_blurpool.log 93.53\n",
      "log_nette_5_ep_192.log 86.76\n",
      "log_nette_5_ep_256_blurpool.log 86.85\n",
      "log_woof_20_ep_128_blurpool.log 85.52\n",
      "log_woof_20_ep_192_blurool.log 87.25\n",
      "log_woof_20_ep_256_blurpool.log 88.29\n",
      "log_woof_5_ep_192_blurpool.log 75.94\n",
      "log_woof_5_ep_256_blurpool.log 76.87\n",
      "log_woof_5_ep_256_maxpool.log 74.54\n"
     ]
    }
   ],
   "source": [
    "res = {}\n",
    "for fn in fnames:\n",
    "    with open(os.path.join('logs',fn), 'r') as f:\n",
    "        lines = f.readlines()\n",
    "        fin_ep = '19' if '20' in fn else '4'\n",
    "        res_lines = [l for l in lines if l.startswith(fin_ep)]\n",
    "        top1_acc = [float(' '.join(rl.split()).split()[3]) for rl in res_lines]\n",
    "        results = np.array(top1_acc)\n",
    "        print (fn,   str(results.mean() * 100)[:5])\n",
    "        #print ('****')"
   ]
  },
  {
   "cell_type": "code",
   "execution_count": null,
   "metadata": {},
   "outputs": [],
   "source": []
  }
 ],
 "metadata": {
  "kernelspec": {
   "display_name": "Python 3",
   "language": "python",
   "name": "python3"
  },
  "language_info": {
   "codemirror_mode": {
    "name": "ipython",
    "version": 3
   },
   "file_extension": ".py",
   "mimetype": "text/x-python",
   "name": "python",
   "nbconvert_exporter": "python",
   "pygments_lexer": "ipython3",
   "version": "3.7.4"
  }
 },
 "nbformat": 4,
 "nbformat_minor": 2
}
